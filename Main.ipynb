{
 "cells": [
  {
   "cell_type": "code",
   "execution_count": null,
   "id": "3d91cfdc",
   "metadata": {},
   "outputs": [],
   "source": [
    "import pandas as pd\n",
    "import numpy as np\n",
    "from sklearn.ensemble import RandomForestClassifier\n",
    "from sklearn.model_selection import train_test_split\n",
    "from sklearn.metrics import accuracy_score\n",
    "from sklearn.linear_model import LogisticRegression"
   ]
  },
  {
   "cell_type": "code",
   "execution_count": null,
   "id": "20e77fe7",
   "metadata": {},
   "outputs": [],
   "source": [
    "train = pd.read_csv(\"train.csv\")\n",
    "test = pd.read_csv(\"test.csv\")\n",
    "test_out = pd.read_csv(\"test.csv\")\n",
    "test['SalePrice'] = 0"
   ]
  },
  {
   "cell_type": "code",
   "execution_count": null,
   "id": "bac0a2f0",
   "metadata": {
    "scrolled": true
   },
   "outputs": [],
   "source": [
    "test.head()"
   ]
  },
  {
   "cell_type": "code",
   "execution_count": null,
   "id": "b8b87b38",
   "metadata": {},
   "outputs": [],
   "source": [
    "def correlation(ds):\n",
    "    numeric_features = train.select_dtypes(include=[np.number]) #catch numeric columns\n",
    "    numeric_features.corr()['SalePrice'].sort_values(ascending = False)[:10]"
   ]
  },
  {
   "cell_type": "code",
   "execution_count": null,
   "id": "f20e842d",
   "metadata": {},
   "outputs": [],
   "source": [
    "def data_clean(ds,test):\n",
    "    #print(ds.head())\n",
    "    ds['MSZoning'].replace({'C (all)': 0, 'RM':1, 'RH':2, 'RL':3, 'FV':4}, inplace = True) \n",
    "    numeric_features = ds.select_dtypes(include=[np.number])\n",
    "    corr = numeric_features.corr()\n",
    "    #print (corr['SalePrice'].sort_values(ascending=False))\n",
    "    a = numeric_features.corr()['SalePrice'].sort_values(ascending=False)[:10] #pega as 10 maiores correlações\n",
    "    print(a)\n",
    "    index = a.index #retira o index delas \n",
    "    ds[index] = ds[index].fillna(0)\n",
    "    ds = ds[index]\n",
    "    ds = ds.dropna()\n",
    "    \n",
    "    test['MSZoning'].replace({'C (all)': 0, 'RM':1, 'RH':2, 'RL':3, 'FV':4}, inplace = True)\n",
    "    test[index] = test[index].fillna(0)\n",
    "    test = test[index]\n",
    "    test = test.dropna()\n",
    "    #print(ds.isnull().sum())\n",
    "    \n",
    "    return ds,test"
   ]
  },
  {
   "cell_type": "code",
   "execution_count": null,
   "id": "515fe5c1",
   "metadata": {
    "scrolled": true
   },
   "outputs": [],
   "source": [
    "###Teste\n",
    "(train,test) = data_clean(train,test)\n",
    "#test = data_clean(test)"
   ]
  },
  {
   "cell_type": "code",
   "execution_count": null,
   "id": "9b7e76c2",
   "metadata": {},
   "outputs": [],
   "source": [
    "train.groupby('GarageCars').median()"
   ]
  },
  {
   "cell_type": "code",
   "execution_count": null,
   "id": "12449e0a",
   "metadata": {
    "scrolled": true
   },
   "outputs": [],
   "source": [
    "train.isnull().sum()"
   ]
  },
  {
   "cell_type": "code",
   "execution_count": null,
   "id": "3370d78e",
   "metadata": {
    "scrolled": true
   },
   "outputs": [],
   "source": [
    "'''corr = numeric_features.corr()\n",
    "print (corr['SalePrice'].sort_values(ascending=False)[:10], '\\n')\n",
    "print (corr['SalePrice'].sort_values(ascending=False)[-5:])'''"
   ]
  },
  {
   "cell_type": "code",
   "execution_count": null,
   "id": "7412f39e",
   "metadata": {
    "scrolled": true
   },
   "outputs": [],
   "source": [
    "'''print (corr['SalePrice'].sort_values(ascending=False))'''"
   ]
  },
  {
   "cell_type": "code",
   "execution_count": null,
   "id": "aea462f8",
   "metadata": {},
   "outputs": [],
   "source": [
    "'''a = numeric_features.corr()['SalePrice'].sort_values(ascending=False)[:15] #pega as 10 maiores correlações\n",
    "index = a.index #retira o index delas'''"
   ]
  },
  {
   "cell_type": "code",
   "execution_count": null,
   "id": "ec4055d5",
   "metadata": {},
   "outputs": [],
   "source": [
    "'''ds = train[index] #utiliza apenas as colunas das melhores correlações\n",
    "ds'''"
   ]
  },
  {
   "cell_type": "code",
   "execution_count": null,
   "id": "09246d28",
   "metadata": {
    "scrolled": true
   },
   "outputs": [],
   "source": [
    "#ds.isnull().sum()\n",
    "train.isnull().sum()"
   ]
  },
  {
   "cell_type": "code",
   "execution_count": null,
   "id": "c0c11224",
   "metadata": {},
   "outputs": [],
   "source": [
    "X = train.drop(['SalePrice'], axis='columns')\n",
    "y = train['SalePrice']"
   ]
  },
  {
   "cell_type": "code",
   "execution_count": null,
   "id": "3895f20b",
   "metadata": {},
   "outputs": [],
   "source": [
    "X_train,X_test,y_train,y_test=train_test_split(X,y,test_size=0.2,random_state=42)"
   ]
  },
  {
   "cell_type": "code",
   "execution_count": null,
   "id": "ca9b288a",
   "metadata": {},
   "outputs": [],
   "source": [
    "#Random Forest Classifier\n",
    "model2=RandomForestClassifier(n_estimators =100)\n",
    "model2.fit(X_train,y_train)\n",
    "pred_2=model2.predict(X_test)\n",
    "rcf=accuracy_score(pred_2,y_test);\n",
    "print(rcf)   "
   ]
  },
  {
   "cell_type": "code",
   "execution_count": null,
   "id": "424fa1cd",
   "metadata": {
    "scrolled": true
   },
   "outputs": [],
   "source": [
    "#Logistic Regression\n",
    "model1 = LogisticRegression(solver='lbfgs', max_iter=1000)\n",
    "model1.fit(X_train, y_train)\n",
    "pred = model1.predict(X_test)\n",
    "log_acc = accuracy_score(pred, y_test)\n",
    "print(log_acc)"
   ]
  },
  {
   "cell_type": "code",
   "execution_count": null,
   "id": "721cf2f3",
   "metadata": {},
   "outputs": [],
   "source": [
    "#index = index.drop('SalePrice')"
   ]
  },
  {
   "cell_type": "code",
   "execution_count": null,
   "id": "fd5b257d",
   "metadata": {},
   "outputs": [],
   "source": [
    "test.drop('SalePrice',axis = 'columns', inplace = True)"
   ]
  },
  {
   "cell_type": "code",
   "execution_count": null,
   "id": "3ef31b12",
   "metadata": {
    "scrolled": true
   },
   "outputs": [],
   "source": [
    "model2.fit(X,y)\n",
    "pred = model2.predict(test)"
   ]
  },
  {
   "cell_type": "code",
   "execution_count": null,
   "id": "5642a70e",
   "metadata": {
    "scrolled": false
   },
   "outputs": [],
   "source": [
    "test[index].isnull().sum()"
   ]
  },
  {
   "cell_type": "code",
   "execution_count": null,
   "id": "16b0d453",
   "metadata": {},
   "outputs": [],
   "source": [
    "result = pd.DataFrame()\n",
    "result['Id'] = test_out.Id\n",
    "result['SalePrice'] = pred"
   ]
  },
  {
   "cell_type": "code",
   "execution_count": null,
   "id": "0f7c3850",
   "metadata": {
    "scrolled": true
   },
   "outputs": [],
   "source": [
    "result.head(5)"
   ]
  },
  {
   "cell_type": "code",
   "execution_count": null,
   "id": "bb5951be",
   "metadata": {},
   "outputs": [],
   "source": [
    "result.to_csv('sub.csv', index = False)"
   ]
  }
 ],
 "metadata": {
  "kernelspec": {
   "display_name": "Python 3 (ipykernel)",
   "language": "python",
   "name": "python3"
  },
  "language_info": {
   "codemirror_mode": {
    "name": "ipython",
    "version": 3
   },
   "file_extension": ".py",
   "mimetype": "text/x-python",
   "name": "python",
   "nbconvert_exporter": "python",
   "pygments_lexer": "ipython3",
   "version": "3.9.7"
  }
 },
 "nbformat": 4,
 "nbformat_minor": 5
}
